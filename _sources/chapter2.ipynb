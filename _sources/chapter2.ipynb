{
 "cells": [
  {
   "cell_type": "raw",
   "metadata": {
    "vscode": {
     "languageId": "raw"
    }
   },
   "source": [
    "---\n",
    "title: \"三、回归(Regression)\"\n",
    "format: gfm\n",
    "---"
   ]
  },
  {
   "cell_type": "markdown",
   "metadata": {
    "vscode": {
     "languageId": "raw"
    }
   },
   "source": [
    "\n",
    "## 最小二乘(OLS)回归\n",
    "### 公式推导\n",
    "中间的一些公式及定理可以参考[随机向量](https://kkdominant.github.io/posts/652.html)\n",
    "设$Y$为因变量,对$Y$有影响的自变量有$p - 1$个,${X}_{1},\\cdots ,{X}_{p - 1}$,它们之间有线性关系\n",
    "$$\n",
    "\tY = {\\beta }_{0} + {\\beta }_{1}{X}_{1} + \\cdots  + {\\beta }_{p - 1}{X}_{p - 1} + e,\n",
    "$$\n",
    "\n",
    "\n",
    "$e$为随机误差,${\\beta }_{0},{\\beta }_{1},\\cdots ,{\\beta }_{p - 1}$为未知回归参数,${\\beta }_{0}$称为常数项,${\\beta }_{1},\\cdots ,{\\beta }_{p - 1}$称为回归系数。\n",
    "\n",
    "设$\\left( { {X}_{1},\\cdots ,{X}_{p - 1},Y}\\right) $的$n$组观察值$\\left( { {x}_{i1},\\cdots ,{x}_{ {ip} - 1},{y}_{i} }\\right) ,i = 1,2,\\allowbreak \\cdots ,n$,则有\n",
    "\n",
    "$${y}_{i} = {\\beta }_{0} + {\\beta }_{1}{x}_{i1} + \\cdots  + {\\beta }_{p - 1}{x}_{ {ip} - 1} + {e}_{i},\\;i = 1,2,\\cdots ,n.$$\n",
    "\n",
    "\n",
    "\n",
    "误差${e}_{1},\\cdots ,{e}_{n}$满足Gauss-Markov (G-M) 假定:\n",
    "\n",
    "$$\\left\\{  \\begin{array}{lll} \\left( a\\right) & E\\left( {e}_{i}\\right)  = 0; \\\\  \\left( b\\right) & \\operatorname{Var}\\left( {e}_{i}\\right)  = {\\sigma }^{2}; \\\\  \\left( c\\right) & \\operatorname{Cov}\\left( { {e}_{i},{e}_{j} }\\right)  = 0,i \\neq  j. \\end{array}\\right.$$\n",
    "\n",
    "\n",
    "\n",
    "将模型用矩阵表示:\n",
    "\n",
    "$\\left( \\begin{matrix} {y}_{1} \\\\  {y}_{2} \\\\  \\vdots \\\\  {y}_{n} \\end{matrix}\\right)  = \\left( \\begin{matrix} 1 & {x}_{11} & {x}_{12} & \\cdots & {x}_{1,p - 1} \\\\  1 & {x}_{21} & {x}_{22} & \\cdots & {x}_{2,p - 1} \\\\  \\vdots & \\vdots & \\vdots & \\vdots & \\vdots \\\\  1 & {x}_{n,1} & {x}_{n,2} & \\cdots & {x}_{n,p - 1} \\end{matrix}\\right) \\left( \\begin{matrix} {\\beta }_{0} \\\\  {\\beta }_{1} \\\\  \\vdots \\\\  {\\beta }_{p - 1} \\end{matrix}\\right)  + \\left( \\begin{matrix} {e}_{1} \\\\  {e}_{2} \\\\  \\vdots \\\\  {e}_{n} \\end{matrix}\\right)$\n",
    "\n",
    "即:${y}_{n \\times  1} = {X}_{n \\times  p}{\\beta }_{p \\times  1} + {e}_{n \\times  1},$\n",
    "\n",
    "\n",
    "\n",
    "此处$e$满足G-M 假定:$E\\left( e\\right)  = 0,\\;\\operatorname{Cov}\\left( e\\right)  = {\\sigma }^{2}I.$\n",
    "\n",
    "\n",
    "此处$y$为$n \\times  1$观察向量,$X$为$n \\times  p$设计阵,$\\beta $为$p \\times  1$回归参数向量,$e$为$n \\times  1$随机误差向 量,$\\beta $和${\\sigma }^{2}$未知,我们目的是求$\\beta $和${\\sigma }^{2}$的估计。\n",
    "\n",
    "记$Q\\left( \\beta \\right) =\\left( y-X\\beta \\right) ^{\\prime}\\left( y-X\\beta \\right) $\n",
    "\n",
    "$$\n",
    "\\frac{\\partial Q\\left( \\beta \\right)}{\\beta}=0\\Longleftrightarrow -X^{\\prime}y+X^{\\prime}X\\beta =0\n",
    "$$\n",
    "\n",
    "$$\t\\,\\,\\hat{\\beta}^{ols}=\\left( X^{\\prime}X \\right) ^{-1}X^{\\prime}y$$\n",
    "\n",
    "###  多元线性回归$\\hat{\\beta}$的最小二乘估计(LS)的矩\n",
    "\n",
    "设$\\widehat{\\beta }$为$\\beta $的 LS 估计,则有\n",
    "\n",
    "$$E\\left( \\widehat{\\beta }\\right)  = \\beta ,\\operatorname{Cov}\\left( \\widehat{\\beta }\\right)  = {\\sigma }^{2}{\\left( {X}^{\\prime }X\\right) }^{-1}.$$\n",
    "在多元线性回归模型中:\n",
    "$\\hat{\\beta}=(X^\\prime X)^{-1}X'Y$假设$y_i$互不相关方差为常量$\\sigma^2,E\\left( Y \\right) =E\\left( X\\beta +e \\right) =X\\beta$ \n",
    "\t证明:  由$\\hat{\\beta}=(X^\\prime X)^{-1}X'Y$\n",
    "\n",
    "根据定理$\\mathrm{COV}\\left( AX,BY \\right) =A\\mathrm{COV}\\left( X,Y \\right) B^{\\prime}$可得: \n",
    "\n",
    "$$\n",
    "\t\\begin{align*}\n",
    "\t\tE\\left( \\hat{\\beta} \\right) &=(X^{\\prime}X)^{-1}X^{\\prime}E\\left( Y \\right) =(X^{\\prime}X)^{-1}X^{\\prime}X\\beta =\\beta \\\\\n",
    "\t\t\\mathrm{Var}\\left( \\hat{\\beta} \\right) &=\\mathrm{Cov}\\left( \\hat{\\beta},\\hat{\\beta} \\right) \n",
    "\t\t&\\\\\n",
    "\t\t&=\\mathrm{COV}\\left( (X^{\\prime}X)^{-1}X^{\\prime}Y,(X^{\\prime}X)^{-1}X^{\\prime}Y \\right) \n",
    "\t\t&\\\\\n",
    "\t\t&=(X^{\\prime}X)^{-1}X^{\\prime}\\mathrm{Cov}\\left( Y,Y \\right) \\left( (X^{\\prime}X)^{-1}X^{\\prime} \\right) ^{\\prime}\n",
    "\t\t&\\\\\n",
    "\t\t&=\\sigma ^2(X^{\\prime}X)^{-1}X^{\\prime}X(X^{\\prime}X)^{-1}\n",
    "\t\t&\\\\\n",
    "\t\t&=\\sigma ^2(X^{\\prime}X)^{-1}\n",
    "\t\t&\n",
    "\t\t\\end{align*}\n",
    "$$\n",
    "\t\t\n",
    "因此$\\hat{\\beta}$是$\\beta$的无偏估计 \n"
   ]
  },
  {
   "cell_type": "markdown",
   "metadata": {},
   "source": [
    "\n",
    "## 回归模型拟合\n",
    "### lm函数\n",
    "1. 用法\n",
    "\n",
    "```r\n",
    "lm(formula, data, subset, weights, na.action,\n",
    "   method = \"qr\", model = TRUE, x = FALSE, y = FALSE, qr = TRUE,\n",
    "   singular.ok = TRUE, contrasts = NULL, offset, ...)\n",
    "```\n",
    "formula为拟合函数,例如:$y\\sim x_1+x_2$\n",
    "在`R语言实战`这本书中[^1] 有各个参数的用法\n",
    "![](https://kkdominant.oss-cn-shanghai.aliyuncs.com/img/202406192148257.png)"
   ]
  },
  {
   "cell_type": "code",
   "execution_count": 4,
   "metadata": {
    "vscode": {
     "languageId": "r"
    }
   },
   "outputs": [
    {
     "data": {
      "text/plain": [
       "\n",
       "Call:\n",
       "lm(formula = x ~ y)\n",
       "\n",
       "Residuals:\n",
       "     Min       1Q   Median       3Q      Max \n",
       "-0.81190 -0.35012  0.09068  0.33302  0.71789 \n",
       "\n",
       "Coefficients:\n",
       "            Estimate Std. Error t value Pr(>|t|)    \n",
       "(Intercept)   6.5992     1.0904   6.052 0.000305 ***\n",
       "y            -0.3362     0.2309  -1.456 0.183512    \n",
       "---\n",
       "Signif. codes:  0 '***' 0.001 '**' 0.01 '*' 0.05 '.' 0.1 ' ' 1\n",
       "\n",
       "Residual standard error: 0.5499 on 8 degrees of freedom\n",
       "Multiple R-squared:  0.2095,\tAdjusted R-squared:  0.1106 \n",
       "F-statistic:  2.12 on 1 and 8 DF,  p-value: 0.1835\n"
      ]
     },
     "metadata": {},
     "output_type": "display_data"
    }
   ],
   "source": [
    "x<- c(4.17,5.58,5.18,6.11,4.50,4.61,5.17,4.53,5.33,5.14)\n",
    "y <- c(4.81,4.17,4.41,3.59,5.87,3.83,6.03,4.89,4.32,4.69)\n",
    "fit<-lm(x~y)\n",
    "summary(fit)"
   ]
  },
  {
   "cell_type": "markdown",
   "metadata": {
    "vscode": {
     "languageId": "r"
    }
   },
   "source": [
    "* Residuals后面是残差的四分位数\n",
    "\n",
    "* Coefficients是拟合系数及p值\n",
    "\n",
    "* Residual standard error残差标准差\n",
    "\n",
    "* Multiple R-squared Multiple R-squared表示模型拟合的度量\n",
    "* F-statistic  F-统计量，表示模型的显著性\n",
    "\n",
    "这里F-statistic的p值大于0.05，表明模型整体不显著\n"
   ]
  },
  {
   "cell_type": "markdown",
   "metadata": {
    "vscode": {
     "languageId": "r"
    }
   },
   "source": [
    "## 多项式回归\n",
    "拟合模型$y=\\hat{\\beta_0}+\\hat{\\beta_1}x+\\hat{\\beta_2}x^2$"
   ]
  },
  {
   "cell_type": "code",
   "execution_count": 8,
   "metadata": {
    "vscode": {
     "languageId": "r"
    }
   },
   "outputs": [
    {
     "data": {
      "text/plain": [
       "\n",
       "Call:\n",
       "lm(formula = y ~ x + I(x^2))\n",
       "\n",
       "Residuals:\n",
       "     Min       1Q   Median       3Q      Max \n",
       "-1.13550 -0.29425 -0.08672  0.02931  1.25722 \n",
       "\n",
       "Coefficients:\n",
       "            Estimate Std. Error t value Pr(>|t|)\n",
       "(Intercept)  -8.7690    18.1200  -0.484    0.643\n",
       "x             5.9427     7.1427   0.832    0.433\n",
       "I(x^2)       -0.6428     0.6980  -0.921    0.388\n",
       "\n",
       "Residual standard error: 0.7557 on 7 degrees of freedom\n",
       "Multiple R-squared:  0.2949,\tAdjusted R-squared:  0.09342 \n",
       "F-statistic: 1.464 on 2 and 7 DF,  p-value: 0.2944\n"
      ]
     },
     "metadata": {},
     "output_type": "display_data"
    }
   ],
   "source": [
    "fit1 <- lm(y ~ x + I(x^2))\n",
    "summary(fit1)"
   ]
  },
  {
   "cell_type": "markdown",
   "metadata": {
    "vscode": {
     "languageId": "r"
    }
   },
   "source": [
    "> $y=\\hat{\\beta_0}+\\hat{\\beta_1}x+\\hat{\\beta_2}x^2$仍然是线性模型、可以令$t=x^2$\n",
    "> 但$y=\\hat{\\beta_0}+\\hat{\\beta_1}x+\\sin(\\hat{\\beta_2}x)$不是线性模型、因为$\\hat{\\beta_2}$未知"
   ]
  },
  {
   "cell_type": "code",
   "execution_count": null,
   "metadata": {
    "vscode": {
     "languageId": "r"
    }
   },
   "outputs": [],
   "source": []
  }
 ],
 "metadata": {
  "kernelspec": {
   "display_name": "R",
   "language": "R",
   "name": "ir"
  },
  "language_info": {
   "codemirror_mode": "r",
   "file_extension": ".r",
   "mimetype": "text/x-r-source",
   "name": "R",
   "pygments_lexer": "r",
   "version": "4.4.1"
  }
 },
 "nbformat": 4,
 "nbformat_minor": 2
}
